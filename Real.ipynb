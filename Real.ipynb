{
 "cells": [
  {
   "cell_type": "code",
   "execution_count": 14,
   "metadata": {},
   "outputs": [],
   "source": [
    "import os\n",
    "import pandas as pd\n",
    "import numpy as np\n",
    "import json"
   ]
  },
  {
   "cell_type": "code",
   "execution_count": 28,
   "metadata": {},
   "outputs": [
    {
     "data": {
      "text/plain": [
       "dict_keys(['train', 'dev', 'test'])"
      ]
     },
     "metadata": {},
     "output_type": "display_data"
    }
   ],
   "source": [
    "# Load the JSON file\n",
    "with open(r\"C:\\2.Documents\\3.LSU\\BreakThrough AI Tech\\2.Fall AI Studio\\Project - Personal work\\data\\abcd_v1.10.json\", \"r\") as f: #Raw string\n",
    "    data = json.load(f)\n",
    "\n",
    "display(data.keys())"
   ]
  },
  {
   "cell_type": "code",
   "execution_count": 64,
   "metadata": {},
   "outputs": [
    {
     "data": {
      "text/plain": [
       "Index(['convo_id', 'scenario', 'original'], dtype='object')"
      ]
     },
     "execution_count": 64,
     "metadata": {},
     "output_type": "execute_result"
    }
   ],
   "source": [
    "#Convert train portion of datafile into a dataframe\n",
    "train_df = pd.DataFrame(data[\"train\"]).drop(columns=\"delexed\")#Removed the delexed row, its not needed\n",
    "train_df.columns"
   ]
  },
  {
   "cell_type": "code",
   "execution_count": 66,
   "metadata": {},
   "outputs": [
    {
     "data": {
      "text/plain": [
       "0       agent: Hi! agent: How can I help you? customer...\n",
       "1       agent: good afternoon, how can I help you? cus...\n",
       "2       customer: HEY HO! agent: good afternoon, how c...\n",
       "3       agent: Welcome to AcmeBrands! How can I help y...\n",
       "4       agent: Hello, how can i help you customer: Hel...\n",
       "                              ...                        \n",
       "8029    agent: Welcome to AcmeBrands. How may I help? ...\n",
       "8030    agent: Hello, how can I help you today? custom...\n",
       "8031    agent: Hello, how may I help you? customer: Hi...\n",
       "8032    customer: Hi agent: Hello, what can I do for y...\n",
       "8033    agent: how may i help you customer: Hello, Eve...\n",
       "Name: transcript, Length: 8034, dtype: object"
      ]
     },
     "execution_count": 66,
     "metadata": {},
     "output_type": "execute_result"
    }
   ],
   "source": [
    "#Created a transcript column(series), to make the text easier for the llm to process\n",
    "train_df[\"transcript\"] = train_df[\"original\"].apply(\n",
    "    lambda turns: \" \".join([f\"{speaker}: {text}\" for speaker, text in turns])\n",
    ")\n",
    "train_df[\"transcript\"]\n"
   ]
  },
  {
   "cell_type": "code",
   "execution_count": 68,
   "metadata": {},
   "outputs": [
    {
     "data": {
      "text/plain": [
       "RangeIndex(start=0, stop=8034, step=1)"
      ]
     },
     "metadata": {},
     "output_type": "display_data"
    },
    {
     "data": {
      "text/plain": [
       "dict_keys(['personal', 'order', 'product', 'flow', 'subflow'])"
      ]
     },
     "metadata": {},
     "output_type": "display_data"
    }
   ],
   "source": [
    "#See the different tuples in scenario\n",
    "display(train_df[\"scenario\"].keys(), train_df[\"scenario\"][0].keys())"
   ]
  },
  {
   "cell_type": "code",
   "execution_count": 130,
   "metadata": {},
   "outputs": [
    {
     "data": {
      "text/plain": [
       "{'personal': {'customer_name': 'crystal minh',\n",
       "  'email': 'cminh730@email.com',\n",
       "  'member_level': 'bronze',\n",
       "  'phone': '(977) 625-2661',\n",
       "  'username': 'cminh730'},\n",
       " 'order': {'street_address': '6821 1st ave',\n",
       "  'full_address': '6821 1st ave  san mateo, ny 75227',\n",
       "  'city': 'san mateo',\n",
       "  'num_products': '1',\n",
       "  'order_id': '3348917502',\n",
       "  'packaging': 'yes',\n",
       "  'payment_method': 'credit card',\n",
       "  'products': \"[{'brand': 'michael_kors', 'product_type': 'jeans', 'amount': 94, 'image_url': 'images/michael_kors-jeans.jpeg'}]\",\n",
       "  'purchase_date': '2019-11-06',\n",
       "  'state': 'ny',\n",
       "  'zip_code': '75227'},\n",
       " 'product': {'names': ['michael_kors jeans'], 'amounts': [94]},\n",
       " 'flow': 'product_defect',\n",
       " 'subflow': 'return_size'}"
      ]
     },
     "execution_count": 130,
     "metadata": {},
     "output_type": "execute_result"
    }
   ],
   "source": [
    "#Display the different categories within each tuple\n",
    "train_df[\"scenario\"][0]"
   ]
  },
  {
   "cell_type": "code",
   "execution_count": null,
   "metadata": {},
   "outputs": [
    {
     "data": {
      "text/html": [
       "<div>\n",
       "<style scoped>\n",
       "    .dataframe tbody tr th:only-of-type {\n",
       "        vertical-align: middle;\n",
       "    }\n",
       "\n",
       "    .dataframe tbody tr th {\n",
       "        vertical-align: top;\n",
       "    }\n",
       "\n",
       "    .dataframe thead th {\n",
       "        text-align: right;\n",
       "    }\n",
       "</style>\n",
       "<table border=\"1\" class=\"dataframe\">\n",
       "  <thead>\n",
       "    <tr style=\"text-align: right;\">\n",
       "      <th></th>\n",
       "      <th>convo_id</th>\n",
       "      <th>customer_name</th>\n",
       "      <th>email</th>\n",
       "      <th>member_level</th>\n",
       "      <th>phone</th>\n",
       "      <th>username</th>\n",
       "      <th>street_address</th>\n",
       "      <th>full_address</th>\n",
       "      <th>city</th>\n",
       "      <th>num_products</th>\n",
       "      <th>...</th>\n",
       "      <th>payment_method</th>\n",
       "      <th>products</th>\n",
       "      <th>purchase_date</th>\n",
       "      <th>state</th>\n",
       "      <th>zip_code</th>\n",
       "      <th>names</th>\n",
       "      <th>amounts</th>\n",
       "      <th>flow</th>\n",
       "      <th>subflow</th>\n",
       "      <th>transcript</th>\n",
       "    </tr>\n",
       "  </thead>\n",
       "  <tbody>\n",
       "    <tr>\n",
       "      <th>0</th>\n",
       "      <td>3592</td>\n",
       "      <td>crystal minh</td>\n",
       "      <td>cminh730@email.com</td>\n",
       "      <td>bronze</td>\n",
       "      <td>(977) 625-2661</td>\n",
       "      <td>cminh730</td>\n",
       "      <td>6821 1st ave</td>\n",
       "      <td>6821 1st ave  san mateo, ny 75227</td>\n",
       "      <td>san mateo</td>\n",
       "      <td>1</td>\n",
       "      <td>...</td>\n",
       "      <td>credit card</td>\n",
       "      <td>[{'brand': 'michael_kors', 'product_type': 'je...</td>\n",
       "      <td>2019-11-06</td>\n",
       "      <td>ny</td>\n",
       "      <td>75227</td>\n",
       "      <td>[michael_kors jeans]</td>\n",
       "      <td>[94]</td>\n",
       "      <td>product_defect</td>\n",
       "      <td>return_size</td>\n",
       "      <td>agent: Hi! agent: How can I help you? customer...</td>\n",
       "    </tr>\n",
       "    <tr>\n",
       "      <th>1</th>\n",
       "      <td>9489</td>\n",
       "      <td>alessandro phoenix</td>\n",
       "      <td>aphoenix939@email.com</td>\n",
       "      <td>gold</td>\n",
       "      <td>(727) 760-7806</td>\n",
       "      <td>aphoenix939</td>\n",
       "      <td>8865 lexington ave</td>\n",
       "      <td>8865 lexington ave  la fayette, tx 86229</td>\n",
       "      <td>la fayette</td>\n",
       "      <td>1</td>\n",
       "      <td>...</td>\n",
       "      <td>credit card</td>\n",
       "      <td>[{'brand': 'michael_kors', 'product_type': 'sh...</td>\n",
       "      <td>2019-11-20</td>\n",
       "      <td>tx</td>\n",
       "      <td>86229</td>\n",
       "      <td>[michael_kors shirt]</td>\n",
       "      <td>[69]</td>\n",
       "      <td>product_defect</td>\n",
       "      <td>refund_status</td>\n",
       "      <td>agent: good afternoon, how can I help you? cus...</td>\n",
       "    </tr>\n",
       "    <tr>\n",
       "      <th>2</th>\n",
       "      <td>3695</td>\n",
       "      <td>joyce wu</td>\n",
       "      <td>None</td>\n",
       "      <td>bronze</td>\n",
       "      <td>(859) 787-9085</td>\n",
       "      <td>None</td>\n",
       "      <td>9998 lincoln ave</td>\n",
       "      <td>9998 lincoln ave  raleigh, mi 14573</td>\n",
       "      <td>raleigh</td>\n",
       "      <td>None</td>\n",
       "      <td>...</td>\n",
       "      <td>None</td>\n",
       "      <td>None</td>\n",
       "      <td>None</td>\n",
       "      <td>mi</td>\n",
       "      <td>14573</td>\n",
       "      <td>[]</td>\n",
       "      <td>[]</td>\n",
       "      <td>storewide_query</td>\n",
       "      <td>timing_4</td>\n",
       "      <td>customer: HEY HO! agent: good afternoon, how c...</td>\n",
       "    </tr>\n",
       "    <tr>\n",
       "      <th>3</th>\n",
       "      <td>5798</td>\n",
       "      <td>crystal minh</td>\n",
       "      <td>cminh948@email.com</td>\n",
       "      <td>silver</td>\n",
       "      <td>(656) 332-6844</td>\n",
       "      <td>cminh948</td>\n",
       "      <td>9723 primrose ave</td>\n",
       "      <td>9723 primrose ave  newark, mi 85971</td>\n",
       "      <td>newark</td>\n",
       "      <td>3</td>\n",
       "      <td>...</td>\n",
       "      <td>None</td>\n",
       "      <td>[{'brand': 'tommy_hilfiger', 'product_type': '...</td>\n",
       "      <td>2020-03-30</td>\n",
       "      <td>mi</td>\n",
       "      <td>85971</td>\n",
       "      <td>[tommy_hilfiger shirt, michael_kors shirt, mic...</td>\n",
       "      <td>[94, 79, 54]</td>\n",
       "      <td>shipping_issue</td>\n",
       "      <td>manage</td>\n",
       "      <td>agent: Welcome to AcmeBrands! How can I help y...</td>\n",
       "    </tr>\n",
       "    <tr>\n",
       "      <th>4</th>\n",
       "      <td>3647</td>\n",
       "      <td>norman bouchard</td>\n",
       "      <td>None</td>\n",
       "      <td>guest</td>\n",
       "      <td>(480) 983-3323</td>\n",
       "      <td>None</td>\n",
       "      <td>7092 1st ave</td>\n",
       "      <td>7092 1st ave  raleigh, ca 46681</td>\n",
       "      <td>raleigh</td>\n",
       "      <td>3</td>\n",
       "      <td>...</td>\n",
       "      <td>None</td>\n",
       "      <td>[{'brand': 'michael_kors', 'product_type': 'je...</td>\n",
       "      <td>None</td>\n",
       "      <td>ca</td>\n",
       "      <td>46681</td>\n",
       "      <td>[michael_kors jeans, tommy_hilfiger jeans, tom...</td>\n",
       "      <td>[49, 79, 54]</td>\n",
       "      <td>storewide_query</td>\n",
       "      <td>pricing_3</td>\n",
       "      <td>agent: Hello, how can i help you customer: Hel...</td>\n",
       "    </tr>\n",
       "  </tbody>\n",
       "</table>\n",
       "<p>5 rows × 22 columns</p>\n",
       "</div>"
      ],
      "text/plain": [
       "   convo_id       customer_name                  email member_level  \\\n",
       "0      3592        crystal minh     cminh730@email.com       bronze   \n",
       "1      9489  alessandro phoenix  aphoenix939@email.com         gold   \n",
       "2      3695            joyce wu                   None       bronze   \n",
       "3      5798        crystal minh     cminh948@email.com       silver   \n",
       "4      3647     norman bouchard                   None        guest   \n",
       "\n",
       "            phone     username      street_address  \\\n",
       "0  (977) 625-2661     cminh730        6821 1st ave   \n",
       "1  (727) 760-7806  aphoenix939  8865 lexington ave   \n",
       "2  (859) 787-9085         None    9998 lincoln ave   \n",
       "3  (656) 332-6844     cminh948   9723 primrose ave   \n",
       "4  (480) 983-3323         None        7092 1st ave   \n",
       "\n",
       "                               full_address        city num_products  ...  \\\n",
       "0         6821 1st ave  san mateo, ny 75227   san mateo            1  ...   \n",
       "1  8865 lexington ave  la fayette, tx 86229  la fayette            1  ...   \n",
       "2       9998 lincoln ave  raleigh, mi 14573     raleigh         None  ...   \n",
       "3       9723 primrose ave  newark, mi 85971      newark            3  ...   \n",
       "4           7092 1st ave  raleigh, ca 46681     raleigh            3  ...   \n",
       "\n",
       "  payment_method                                           products  \\\n",
       "0    credit card  [{'brand': 'michael_kors', 'product_type': 'je...   \n",
       "1    credit card  [{'brand': 'michael_kors', 'product_type': 'sh...   \n",
       "2           None                                               None   \n",
       "3           None  [{'brand': 'tommy_hilfiger', 'product_type': '...   \n",
       "4           None  [{'brand': 'michael_kors', 'product_type': 'je...   \n",
       "\n",
       "  purchase_date state zip_code  \\\n",
       "0    2019-11-06    ny    75227   \n",
       "1    2019-11-20    tx    86229   \n",
       "2          None    mi    14573   \n",
       "3    2020-03-30    mi    85971   \n",
       "4          None    ca    46681   \n",
       "\n",
       "                                               names       amounts  \\\n",
       "0                               [michael_kors jeans]          [94]   \n",
       "1                               [michael_kors shirt]          [69]   \n",
       "2                                                 []            []   \n",
       "3  [tommy_hilfiger shirt, michael_kors shirt, mic...  [94, 79, 54]   \n",
       "4  [michael_kors jeans, tommy_hilfiger jeans, tom...  [49, 79, 54]   \n",
       "\n",
       "              flow        subflow  \\\n",
       "0   product_defect    return_size   \n",
       "1   product_defect  refund_status   \n",
       "2  storewide_query       timing_4   \n",
       "3   shipping_issue         manage   \n",
       "4  storewide_query      pricing_3   \n",
       "\n",
       "                                          transcript  \n",
       "0  agent: Hi! agent: How can I help you? customer...  \n",
       "1  agent: good afternoon, how can I help you? cus...  \n",
       "2  customer: HEY HO! agent: good afternoon, how c...  \n",
       "3  agent: Welcome to AcmeBrands! How can I help y...  \n",
       "4  agent: Hello, how can i help you customer: Hel...  \n",
       "\n",
       "[5 rows x 22 columns]"
      ]
     },
     "execution_count": 139,
     "metadata": {},
     "output_type": "execute_result"
    }
   ],
   "source": [
    "#Create a traditional dataframe with all the categories and the transcription per conversation\n",
    "rows = []\n",
    "for _, row in train_df.iterrows():\n",
    "    convo_id = row[\"convo_id\"]\n",
    "    scenario = row[\"scenario\"] #Contains 3 dicts\n",
    "    transcript = row[\"transcript\"]\n",
    "\n",
    "    #Flatten scenario keys\n",
    "    personal = scenario.get(\"personal\", {})\n",
    "    order = scenario.get(\"order\", {})\n",
    "    product = scenario.get(\"product\", {})\n",
    "    \n",
    "    rows.append({\n",
    "        \"convo_id\": row[\"convo_id\"],\n",
    "        \"customer_name\": personal.get(\"customer_name\"),\n",
    "        \"email\": personal.get(\"email\"),\n",
    "        \"member_level\": personal.get(\"member_level\"),\n",
    "        \"phone\": personal.get(\"phone\"),\n",
    "        \"username\": personal.get(\"username\"),\n",
    "        \"street_address\": order.get(\"street_address\"),\n",
    "        \"full_address\": order.get(\"full_address\"),\n",
    "        \"city\": order.get(\"city\"),\n",
    "        \"num_products\": order.get(\"num_products\"),\n",
    "        \"order_id\": order.get(\"order_id\"),\n",
    "        \"packaging\": order.get(\"packaging\"),\n",
    "        \"payment_method\": order.get(\"payment_method\"),\n",
    "        \"products\": order.get(\"products\"),\n",
    "        \"purchase_date\": order.get(\"purchase_date\"),\n",
    "        \"state\": order.get(\"state\"),\n",
    "        \"zip_code\": order.get(\"zip_code\"),\n",
    "        \"names\": product.get(\"names\"),\n",
    "        \"amounts\": product.get(\"amounts\"),\n",
    "        \"flow\": scenario.get(\"flow\"),\n",
    "        \"subflow\": scenario.get(\"subflow\"),\n",
    "        \"transcript\": row[\"transcript\"],\n",
    "    })\n",
    "\n",
    "structured_tain_df = pd.DataFrame(rows)\n",
    "structured_tain_df.head()"
   ]
  },
  {
   "cell_type": "markdown",
   "metadata": {},
   "source": [
    "#### Okay, I have a transcription of every conversation, and each category. What i need to do is build a system, where i feed the transcripts into an api, and spit out the correct answers to the categories(the ones in scenario dicts)[step 1: pipeline]. I will need to test that they match the real answers[step 2 evaluation: accuracy will be a focus in the project], and find out how to have them placed in a dataframe for viewing like I did up top[step 3: presentation]."
   ]
  },
  {
   "cell_type": "code",
   "execution_count": 148,
   "metadata": {},
   "outputs": [
    {
     "data": {
      "text/plain": [
       "['convo_id',\n",
       " 'customer_name',\n",
       " 'email',\n",
       " 'member_level',\n",
       " 'phone',\n",
       " 'username',\n",
       " 'street_address',\n",
       " 'full_address',\n",
       " 'city',\n",
       " 'num_products',\n",
       " 'order_id',\n",
       " 'packaging',\n",
       " 'payment_method',\n",
       " 'products',\n",
       " 'purchase_date',\n",
       " 'state',\n",
       " 'zip_code',\n",
       " 'names',\n",
       " 'amounts',\n",
       " 'flow',\n",
       " 'subflow',\n",
       " 'transcript']"
      ]
     },
     "execution_count": 148,
     "metadata": {},
     "output_type": "execute_result"
    }
   ],
   "source": [
    "structured_tain_df.columns.tolist()"
   ]
  }
 ],
 "metadata": {
  "kernelspec": {
   "display_name": "Python 3",
   "language": "python",
   "name": "python3"
  },
  "language_info": {
   "codemirror_mode": {
    "name": "ipython",
    "version": 3
   },
   "file_extension": ".py",
   "mimetype": "text/x-python",
   "name": "python",
   "nbconvert_exporter": "python",
   "pygments_lexer": "ipython3",
   "version": "3.13.2"
  }
 },
 "nbformat": 4,
 "nbformat_minor": 2
}
